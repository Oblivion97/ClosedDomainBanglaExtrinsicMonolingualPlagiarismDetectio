{
 "cells": [
  {
   "cell_type": "code",
   "execution_count": 24,
   "metadata": {},
   "outputs": [],
   "source": [
    "import nltk\n",
    "from nltk.corpus import stopwords\n",
    "import pandas as pd\n",
    "from nltk.tokenize import word_tokenize\n",
    "import numpy as np\n",
    "import math"
   ]
  },
  {
   "cell_type": "code",
   "execution_count": 25,
   "metadata": {},
   "outputs": [],
   "source": [
    "sw = stopwords.words('english')\n",
    "#print(\"English StopWord\",sw)"
   ]
  },
  {
   "cell_type": "code",
   "execution_count": 26,
   "metadata": {},
   "outputs": [],
   "source": [
    "df = pd.read_excel('bng_sw.xlsx', sheet_name=0)\n",
    "bng_stopword = df['Stopwords'].tolist()\n",
    "#print(bng_stopword)"
   ]
  },
  {
   "cell_type": "code",
   "execution_count": 27,
   "metadata": {},
   "outputs": [
    {
     "name": "stdout",
     "output_type": "stream",
     "text": [
      "Test Data Is:  বই পড়লে জানা যায় নানা কিছু। আমি তো প্রচুর বই পড়ি। অনেক কিছু জানা যায় বই পড়লে। বই পড়তে গেলে নানা চিন্তাভাবনা করতে হয়, মনে রাখতে হয় নানা কিছু।\n"
     ]
    }
   ],
   "source": [
    "#....test data...\n",
    "f = open(\"doc1.txt\", encoding = 'utf-8')\n",
    "text = f.read()\n",
    "print(\"Test Data Is: \",text)"
   ]
  },
  {
   "cell_type": "code",
   "execution_count": 28,
   "metadata": {},
   "outputs": [
    {
     "name": "stdout",
     "output_type": "stream",
     "text": [
      "['বই পড়লে জানা যায় নানা কিছু' ' আমি তো প্রচুর বই পড়ি'\n",
      " ' অনেক কিছু জানা যায় বই পড়লে'\n",
      " ' বই পড়তে গেলে নানা চিন্তাভাবনা করতে হয়, মনে রাখতে হয় নানা কিছু']\n"
     ]
    }
   ],
   "source": [
    "# ......split every sentence & store an array\n",
    "sentence1 = text.split(\"।\")\n",
    "\n",
    "# ......store each document in different array\n",
    "np_sent1 = np.array(sentence1)\n",
    "\n",
    "# ......remove last row for blank line\n",
    "np_sent1 = np.delete(np_sent1,-1)\n",
    "\n",
    "print(np_sent1)"
   ]
  },
  {
   "cell_type": "code",
   "execution_count": 29,
   "metadata": {},
   "outputs": [
    {
     "name": "stdout",
     "output_type": "stream",
     "text": [
      "After Remove Stop-Word:\n",
      " ['বই পড়লে' 'প্রচুর বই পড়ি' 'বই পড়লে' 'বই পড়তে চিন্তাভাবনা , মনে রাখতে']\n"
     ]
    }
   ],
   "source": [
    "#......Remove Stop-Word From Each Sentence........\n",
    "\n",
    "for i in range(len(np_sent1)):\n",
    "    text_tokens = word_tokenize(np_sent1[i])\n",
    "    tokens_without_sw = [word for word in text_tokens if not word in bng_stopword]\n",
    "    filtered_text = (\" \").join(tokens_without_sw)\n",
    "    np_sent1[i] = filtered_text\n",
    "    \n",
    "print(\"After Remove Stop-Word:\\n\", np_sent1)"
   ]
  },
  {
   "cell_type": "code",
   "execution_count": 30,
   "metadata": {},
   "outputs": [
    {
     "name": "stdout",
     "output_type": "stream",
     "text": [
      "['বই', 'পড়লে', 'প্রচুর', 'পড়ি', 'পড়তে', 'চিন্তাভাবনা', ',', 'মনে', 'রাখতে']\n",
      "9\n"
     ]
    }
   ],
   "source": [
    "actual_tokens = []\n",
    "for i in range(len(np_sent1)):\n",
    "    text_tokens = word_tokenize(np_sent1[i])\n",
    "    for j in range(len(text_tokens)):\n",
    "        actual_tokens.append(text_tokens[j])\n",
    "        \n",
    "actual_tokens = list(dict.fromkeys(actual_tokens))        \n",
    "print(actual_tokens)\n",
    "print(len(actual_tokens))"
   ]
  },
  {
   "cell_type": "code",
   "execution_count": 31,
   "metadata": {},
   "outputs": [],
   "source": [
    "#.......count the number of occurrences a term........\n",
    "def countX(lst, x): \n",
    "    count = 0\n",
    "    for ele in lst: \n",
    "        if (ele == x): \n",
    "            count = count + 1\n",
    "    return count "
   ]
  },
  {
   "cell_type": "code",
   "execution_count": 32,
   "metadata": {},
   "outputs": [
    {
     "name": "stdout",
     "output_type": "stream",
     "text": [
      "No of sentence: 4\n"
     ]
    }
   ],
   "source": [
    "#.........Calculate TF Score..........\n",
    "print(\"No of sentence:\",len(np_sent1))\n",
    "\n",
    "rows, cols = (len(np_sent1), len(actual_tokens)) \n",
    "tf_score = [[0 for i in range(cols)] for j in range(rows)] \n",
    "\n",
    "for i in range(len(np_sent1)):\n",
    "    text_tokens = word_tokenize(np_sent1[i])\n",
    "    count = 0\n",
    "    total_term = len(text_tokens)\n",
    "#     print(\"tokens:\", text_tokens)\n",
    "#     print(\"Total:\", total_term)\n",
    "    for j in range(len(actual_tokens)):\n",
    "        rep_term = countX(text_tokens,actual_tokens[j])\n",
    "        count = (rep_term/total_term);\n",
    "        #print(\"term:\", actual_tokens[j], \" Repeat:\",rep_term, \" TF-Score:\", count)\n",
    "        tf_score[i][j] = count\n",
    "\n",
    "# print(\"TF_score IS:\")\n",
    "# for row in tf_score: \n",
    "#     print(row) \n",
    "# print(\"TF\", tf_score[2][:])        "
   ]
  },
  {
   "cell_type": "code",
   "execution_count": 33,
   "metadata": {},
   "outputs": [],
   "source": [
    "#.........Calculate IDF Score..........\n",
    "idf_score = []\n",
    "\n",
    "for i in range(len(actual_tokens)):\n",
    "    count_idf = 0\n",
    "    score = 0\n",
    "    for j in range(len(np_sent1)):\n",
    "        sentence = word_tokenize(np_sent1[j])\n",
    "        term = actual_tokens[i]\n",
    "        for ele in sentence:\n",
    "            if (ele == term):\n",
    "                count_idf = count_idf + 1\n",
    "                break\n",
    "                \n",
    "    score = math.log(len(np_sent1)/count_idf,10)\n",
    "    idf_score.append(score)\n",
    "    #print(\"Token:\", actual_tokens[i], \"Found:\", idf_score)\n",
    "    \n",
    "#print(\"IDF-Score: \", idf_score)\n"
   ]
  },
  {
   "cell_type": "code",
   "execution_count": 34,
   "metadata": {},
   "outputs": [
    {
     "name": "stdout",
     "output_type": "stream",
     "text": [
      "[0.0, 0.15051499783199057, 0.0, 0.0, 0.0, 0.0, 0.0, 0.0, 0.0]\n",
      "[0.0, 0.0, 0.20068666377598743, 0.20068666377598743, 0.0, 0.0, 0.0, 0.0, 0.0]\n",
      "[0.0, 0.15051499783199057, 0.0, 0.0, 0.0, 0.0, 0.0, 0.0, 0.0]\n",
      "[0.0, 0.0, 0.0, 0.0, 0.10034333188799371, 0.10034333188799371, 0.10034333188799371, 0.10034333188799371, 0.10034333188799371]\n"
     ]
    }
   ],
   "source": [
    "#.........Calculate TF-IDF Score..........\n",
    "rows, cols = (len(np_sent1), len(actual_tokens)) \n",
    "tf_idf_score = [[0 for i in range(cols)] for j in range(rows)]\n",
    "\n",
    "for i in range (rows):\n",
    "    for j in range(cols):\n",
    "        tf = tf_score[i][j]\n",
    "        idf = idf_score[j]\n",
    "        tf_idf_score[i][j] = tf * idf\n",
    "\n",
    "for row in tf_idf_score:\n",
    "    print(row)"
   ]
  },
  {
   "cell_type": "code",
   "execution_count": null,
   "metadata": {},
   "outputs": [],
   "source": []
  }
 ],
 "metadata": {
  "kernelspec": {
   "display_name": "Python 3",
   "language": "python",
   "name": "python3"
  },
  "language_info": {
   "codemirror_mode": {
    "name": "ipython",
    "version": 3
   },
   "file_extension": ".py",
   "mimetype": "text/x-python",
   "name": "python",
   "nbconvert_exporter": "python",
   "pygments_lexer": "ipython3",
   "version": "3.7.1"
  }
 },
 "nbformat": 4,
 "nbformat_minor": 2
}
