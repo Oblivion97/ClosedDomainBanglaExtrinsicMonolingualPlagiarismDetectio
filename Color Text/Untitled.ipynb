{
 "cells": [
  {
   "cell_type": "code",
   "execution_count": 22,
   "metadata": {},
   "outputs": [],
   "source": [
    "from docx import Document\n",
    "from docx.shared import RGBColor\n",
    "from docx import Document\n",
    "from docx.text.run import Font, Run\n",
    "import numpy as np\n",
    "import docx"
   ]
  },
  {
   "cell_type": "code",
   "execution_count": 23,
   "metadata": {},
   "outputs": [
    {
     "name": "stdout",
     "output_type": "stream",
     "text": [
      "কার্ডটা এক পাশে সরিয়ে রাখলেন হ্যারিস। তাকালেন সামনে বসা যুবকের দিকে। দেখে কিছুটা অসুস্থ মনে হচ্ছে। হ্যারিসের প্রশ্নে তার মধ্যে কোনো ভাবান্তর দেখা গেল না। উত্তর দেওয়ার কোনো রকম ইচ্ছা আছে বলে মনে হচ্ছে না। ভ্রুতে ভাঁজ পড়ল ডাক্তারের। ওয়েস্টারবার্গ দেখতে মন্দ নয়। পেট্রল ইউনিফর্মে তাকে সুদর্শনই লাগছে। ঝাঁকড়া সোনালি চুলের একটা গোছা এক চোখের ওপর ঝুলে আছে। ঝাড়া ৬ ফুট লম্বা, স্বাস্থ্যটাও দশাসই। ওর আইডি কার্ডের তথ্য অনুযায়ী ২ বছর প্রশিক্ষণ শেষ করেছে সে। ডেট্রয়েটে জন্ম। ৯ বছর বয়সে একবার হাম হয়েছিল। জেট ইঞ্জিনে আগ্রহ তুমুল। টেনিস খেলতে ভালোবাসে। নারীসঙ্গ উপভোগ করে। বয়স ২৬।\n"
     ]
    }
   ],
   "source": [
    "#...........Read Test Data..................\n",
    "f = open(\"test data.txt\", encoding = 'utf-8')\n",
    "data = f.read()\n",
    "print(data)\n",
    "\n",
    "# .........split every sentence & store an array............\n",
    "sentence = data.split(\"।\")\n",
    "np_data = np.array(sentence)\n",
    "np_data = np.insert(np_data,0,'Data Is: ')\n",
    "np_data = np_data[:-1]\n",
    "np_data\n",
    "\n",
    "mydoc = docx.Document()\n",
    "\n",
    "for ele in range(len(np_data)):\n",
    "    if ele == 0:\n",
    "        first = mydoc.add_paragraph(np_data[ele])\n",
    "        \n",
    "    elif (ele%2)==0:\n",
    "        pera = first.add_run(np_data[ele]+\"।\")\n",
    "        \n",
    "    else:\n",
    "        pera = first.add_run(np_data[ele]+\"।\")\n",
    "        font = pera.font\n",
    "        font.color.rgb = RGBColor(255, 0, 0)\n",
    "\n",
    "mydoc.save(\"report.docx\")       "
   ]
  }
 ],
 "metadata": {
  "kernelspec": {
   "display_name": "Python 3",
   "language": "python",
   "name": "python3"
  },
  "language_info": {
   "codemirror_mode": {
    "name": "ipython",
    "version": 3
   },
   "file_extension": ".py",
   "mimetype": "text/x-python",
   "name": "python",
   "nbconvert_exporter": "python",
   "pygments_lexer": "ipython3",
   "version": "3.8.5"
  }
 },
 "nbformat": 4,
 "nbformat_minor": 4
}
